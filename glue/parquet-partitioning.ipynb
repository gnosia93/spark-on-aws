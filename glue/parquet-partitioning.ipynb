{
 "cells": [
  {
   "cell_type": "markdown",
   "id": "6703e93e",
   "metadata": {},
   "source": [
    "https://docs.aws.amazon.com/glue/latest/dg/release-notes.html <BR>\n",
    "AWS Glue interactive sessions are not yet available in AWS Glue 4.0.    "
   ]
  },
  {
   "cell_type": "code",
   "execution_count": 7,
   "id": "cb4598fd",
   "metadata": {},
   "outputs": [
    {
     "name": "stdout",
     "output_type": "stream",
     "text": [
      "Welcome to the Glue Interactive Sessions Kernel\n",
      "For more information on available magic commands, please type %help in any new cell.\n",
      "\n",
      "Please view our Getting Started page to access the most up-to-date information on the Interactive Sessions kernel: https://docs.aws.amazon.com/glue/latest/dg/interactive-sessions.html\n",
      "Setting Glue version to: 3.0\n",
      "Previous number of workers: 5\n",
      "Setting new number of workers to: 2\n",
      "Previous worker type: G.1X\n",
      "Setting new worker type to: G.2X\n",
      "Current idle_timeout is 2880 minutes.\n",
      "idle_timeout has been set to 6000 minutes.\n",
      "Previous region: None\n",
      "Setting new region to: ap-northeast-2\n",
      "Region is set to: ap-northeast-2\n",
      "Current iam_role is None\n",
      "iam_role has been set to arn:aws:iam::499514681453:role/AWSGlueServiceRoleJupyter.\n"
     ]
    }
   ],
   "source": [
    "%glue_version 3.0\n",
    "%number_of_workers 2\n",
    "%worker_type G.2X\n",
    "%idle_timeout 6000\n",
    "%region ap-northeast-2\n",
    "%iam_role arn:aws:iam::499514681453:role/AWSGlueServiceRoleJupyter"
   ]
  },
  {
   "cell_type": "markdown",
   "id": "35032b22",
   "metadata": {},
   "source": [
    "glue 카탈로그에 sample2 라는 데이터베이스를 생성한다."
   ]
  },
  {
   "cell_type": "code",
   "execution_count": 1,
   "id": "a8bd93e3",
   "metadata": {},
   "outputs": [
    {
     "name": "stdout",
     "output_type": "stream",
     "text": [
      "Authenticating with profile=default\n",
      "glue_role_arn defined by user: arn:aws:iam::499514681453:role/AWSGlueServiceRoleJupyter\n",
      "Trying to create a Glue session for the kernel.\n",
      "Worker Type: G.2X\n",
      "Number of Workers: 2\n",
      "Session ID: 3a06baf1-9866-4602-ab81-74fb8191329d\n",
      "Job Type: glueetl\n",
      "Applying the following default arguments:\n",
      "--glue_kernel_version 0.37.2\n",
      "--enable-glue-datacatalog true\n",
      "Waiting for session 3a06baf1-9866-4602-ab81-74fb8191329d to get into ready status...\n",
      "Session 3a06baf1-9866-4602-ab81-74fb8191329d has been created.\n",
      "\n"
     ]
    }
   ],
   "source": [
    "import boto3\n",
    "\n",
    "glueClient = boto3.client('glue')\n",
    "\n",
    "response = glueClient.create_database(\n",
    "    DatabaseInput={\n",
    "        'Name': 'sample2'\n",
    "    }\n",
    ")                                                    \n",
    "    "
   ]
  },
  {
   "cell_type": "markdown",
   "id": "0d427eb0",
   "metadata": {},
   "source": [
    "스파크 SQL 테이블 스키마 조회 <BR>\n",
    "https://spark.apache.org/docs/3.0.0-preview/sql-ref-syntax-aux-describe-table.html"
   ]
  },
  {
   "cell_type": "code",
   "execution_count": 1,
   "id": "06c0b709",
   "metadata": {},
   "outputs": [
    {
     "name": "stdout",
     "output_type": "stream",
     "text": [
      "Authenticating with profile=default\n",
      "glue_role_arn defined by user: arn:aws:iam::499514681453:role/AWSGlueServiceRoleJupyter\n",
      "Trying to create a Glue session for the kernel.\n",
      "Worker Type: G.2X\n",
      "Number of Workers: 2\n",
      "Session ID: 7dda530c-90a3-4a04-b84b-2a0a60b16dd0\n",
      "Job Type: glueetl\n",
      "Applying the following default arguments:\n",
      "--glue_kernel_version 0.37.2\n",
      "--enable-glue-datacatalog true\n",
      "Waiting for session 7dda530c-90a3-4a04-b84b-2a0a60b16dd0 to get into ready status...\n",
      "Session 7dda530c-90a3-4a04-b84b-2a0a60b16dd0 has been created.\n",
      "+--------------------+---------+-------+\n",
      "|            col_name|data_type|comment|\n",
      "+--------------------+---------+-------+\n",
      "|                year|   bigint|   null|\n",
      "|             quarter|   bigint|   null|\n",
      "|               month|   bigint|   null|\n",
      "|        day_of_month|   bigint|   null|\n",
      "|         day_of_week|   bigint|   null|\n",
      "|             fl_date|   string|   null|\n",
      "|      unique_carrier|   string|   null|\n",
      "|          airline_id|   bigint|   null|\n",
      "|             carrier|   string|   null|\n",
      "|            tail_num|   string|   null|\n",
      "|              fl_num|   bigint|   null|\n",
      "|   origin_airport_id|   bigint|   null|\n",
      "|origin_airport_se...|   bigint|   null|\n",
      "|origin_city_marke...|   bigint|   null|\n",
      "|              origin|   string|   null|\n",
      "|    origin_city_name|   string|   null|\n",
      "|    origin_state_abr|   string|   null|\n",
      "|   origin_state_fips|   bigint|   null|\n",
      "|     origin_state_nm|   string|   null|\n",
      "|          origin_wac|   bigint|   null|\n",
      "+--------------------+---------+-------+\n",
      "only showing top 20 rows\n"
     ]
    }
   ],
   "source": [
    "%%sql \n",
    "describe table EXTENDED sample.`tbl-csv`"
   ]
  },
  {
   "cell_type": "code",
   "execution_count": 3,
   "id": "be13b3ed",
   "metadata": {},
   "outputs": [
    {
     "name": "stdout",
     "output_type": "stream",
     "text": [
      "+----+-------+-----+------------+\n",
      "|year|quarter|month|day_of_month|\n",
      "+----+-------+-----+------------+\n",
      "|null|   null| null|        null|\n",
      "|2016|      3|    8|           3|\n",
      "|2016|      3|    8|           3|\n",
      "|2016|      3|    8|           3|\n",
      "|2016|      3|    8|           3|\n",
      "+----+-------+-----+------------+\n"
     ]
    }
   ],
   "source": [
    "%%sql \n",
    "select year, quarter, month, day_of_month from sample.`tbl-csv` limit 5\n"
   ]
  },
  {
   "cell_type": "code",
   "execution_count": 2,
   "id": "3b3f68df",
   "metadata": {},
   "outputs": [
    {
     "name": "stdout",
     "output_type": "stream",
     "text": [
      "+--------+\n",
      "|count(1)|\n",
      "+--------+\n",
      "| 5248451|\n",
      "+--------+\n"
     ]
    }
   ],
   "source": [
    "%%sql\n",
    "select count(1) from sample.`tbl-csv`"
   ]
  },
  {
   "cell_type": "markdown",
   "id": "58aaf535",
   "metadata": {},
   "source": [
    "스파크 데이터프레임을 이용한 데이터 조작"
   ]
  },
  {
   "cell_type": "code",
   "execution_count": 3,
   "id": "34a59bdb",
   "metadata": {},
   "outputs": [
    {
     "name": "stdout",
     "output_type": "stream",
     "text": [
      "\n"
     ]
    }
   ],
   "source": [
    "from awsglue.context import GlueContext\n",
    "from awsglue.job import Job\n",
    "from awsglue.transforms import *\n",
    "from awsglue.utils import getResolvedOptions\n",
    "from pyspark.context import SparkContext\n",
    "\n",
    "sc = SparkContext.getOrCreate()\n",
    "glueContext = GlueContext(sc)\n",
    "spark = glueContext.spark_session\n",
    "job = Job(glueContext)"
   ]
  },
  {
   "cell_type": "code",
   "execution_count": 4,
   "id": "c0cc4ce9",
   "metadata": {},
   "outputs": [
    {
     "name": "stdout",
     "output_type": "stream",
     "text": [
      "+--------+---------------+-----------+\n",
      "|database|      tableName|isTemporary|\n",
      "+--------+---------------+-----------+\n",
      "|  sample|        tbl-csv|      false|\n",
      "|  sample|tbl-flight-part|      false|\n",
      "+--------+---------------+-----------+\n"
     ]
    }
   ],
   "source": [
    "%%sql\n",
    "show tables in sample"
   ]
  },
  {
   "cell_type": "code",
   "execution_count": null,
   "id": "c976ef5d",
   "metadata": {},
   "outputs": [],
   "source": []
  },
  {
   "cell_type": "markdown",
   "id": "63d743d7",
   "metadata": {},
   "source": [
    "https://docs.aws.amazon.com/glue/latest/dg/aws-glue-api-crawler-pyspark-extensions-dynamic-frame.html"
   ]
  },
  {
   "cell_type": "code",
   "execution_count": 5,
   "id": "7371e2ba",
   "metadata": {
    "scrolled": true
   },
   "outputs": [
    {
     "name": "stdout",
     "output_type": "stream",
     "text": [
      "root\n",
      "|-- year: long\n",
      "|-- quarter: long\n",
      "|-- month: long\n",
      "|-- day_of_month: long\n",
      "|-- day_of_week: long\n",
      "|-- fl_date: string\n",
      "|-- unique_carrier: string\n",
      "|-- airline_id: long\n",
      "|-- carrier: string\n",
      "|-- tail_num: string\n",
      "|-- fl_num: long\n",
      "|-- origin_airport_id: long\n",
      "|-- origin_airport_seq_id: long\n",
      "|-- origin_city_market_id: long\n",
      "|-- origin: string\n",
      "|-- origin_city_name: string\n",
      "|-- origin_state_abr: string\n",
      "|-- origin_state_fips: long\n",
      "|-- origin_state_nm: string\n",
      "|-- origin_wac: long\n",
      "|-- dest_airport_id: long\n",
      "|-- dest_airport_seq_id: long\n",
      "|-- dest_city_market_id: long\n",
      "|-- dest: string\n",
      "|-- dest_city_name: string\n",
      "|-- dest_state_abr: string\n",
      "|-- dest_state_fips: long\n",
      "|-- dest_state_nm: string\n",
      "|-- dest_wac: long\n",
      "|-- crs_dep_time: long\n",
      "|-- dep_time: long\n",
      "|-- dep_delay: long\n",
      "|-- dep_delay_new: long\n",
      "|-- dep_del15: long\n",
      "|-- dep_delay_group: long\n",
      "|-- dep_time_blk: string\n",
      "|-- taxi_out: long\n",
      "|-- wheels_off: long\n",
      "|-- wheels_on: long\n",
      "|-- taxi_in: long\n",
      "|-- crs_arr_time: long\n",
      "|-- arr_time: long\n",
      "|-- arr_delay: long\n",
      "|-- arr_delay_new: long\n",
      "|-- arr_del15: long\n",
      "|-- arr_delay_group: long\n",
      "|-- arr_time_blk: string\n",
      "|-- cancelled: long\n",
      "|-- cancellation_code: string\n",
      "|-- diverted: long\n",
      "|-- crs_elapsed_time: long\n",
      "|-- actual_elapsed_time: long\n",
      "|-- air_time: long\n",
      "|-- flights: long\n",
      "|-- distance: long\n",
      "|-- distance_group: long\n",
      "|-- mon: string\n",
      "|-- carrier_delay: long\n",
      "|-- weather_delay: long\n",
      "|-- nas_delay: long\n",
      "|-- security_delay: long\n",
      "|-- late_aircraft_delay: long\n",
      "|-- first_dep_time: long\n",
      "|-- total_add_gtime: long\n",
      "|-- longest_add_gtime: long\n"
     ]
    }
   ],
   "source": [
    "flightDyf = glueContext.create_dynamic_frame.from_catalog(\n",
    "    database = \"sample\",\n",
    "    table_name = \"tbl-csv\"\n",
    ")\n",
    "flightDyf.printSchema()"
   ]
  },
  {
   "cell_type": "code",
   "execution_count": 6,
   "id": "abfe7bc0",
   "metadata": {},
   "outputs": [
    {
     "name": "stdout",
     "output_type": "stream",
     "text": [
      "root\n",
      "|-- year: long\n",
      "|-- quarter: long\n",
      "|-- month: long\n",
      "|-- day_of_month: long\n",
      "|-- day_of_week: long\n",
      "|-- fl_date: string\n",
      "|-- unique_carrier: string\n",
      "|-- airline_id: long\n",
      "|-- carrier: string\n",
      "|-- tail_num: string\n",
      "|-- fl_num: long\n",
      "|-- crs_dep_time: long\n",
      "|-- dep_time: long\n",
      "|-- dep_delay: long\n",
      "|-- dep_delay_new: long\n",
      "|-- dep_del15: long\n",
      "|-- dep_delay_group: long\n",
      "|-- dep_time_blk: string\n",
      "|-- taxi_out: long\n",
      "|-- wheels_off: long\n",
      "|-- wheels_on: long\n",
      "|-- taxi_in: long\n",
      "|-- crs_arr_time: long\n",
      "|-- arr_time: long\n",
      "|-- arr_delay: long\n",
      "|-- arr_delay_new: long\n",
      "|-- arr_del15: long\n",
      "|-- arr_delay_group: long\n",
      "|-- arr_time_blk: string\n",
      "|-- cancelled: long\n",
      "|-- cancellation_code: string\n",
      "|-- diverted: long\n",
      "|-- crs_elapsed_time: long\n",
      "|-- actual_elapsed_time: long\n",
      "|-- air_time: long\n",
      "|-- flights: long\n",
      "|-- distance: long\n",
      "|-- distance_group: long\n",
      "|-- mon: string\n",
      "|-- carrier_delay: long\n",
      "|-- weather_delay: long\n",
      "|-- nas_delay: long\n",
      "|-- security_delay: long\n",
      "|-- late_aircraft_delay: long\n",
      "|-- first_dep_time: long\n",
      "|-- total_add_gtime: long\n",
      "|-- longest_add_gtime: long\n",
      "\n",
      "+----+-------+-----+------------+-----------+-------+--------------+----------+-------+--------+------+------------+--------+---------+-------------+---------+---------------+------------+--------+----------+---------+-------+------------+--------+---------+-------------+---------+---------------+------------+---------+-----------------+--------+----------------+-------------------+--------+-------+--------+--------------+---+-------------+-------------+---------+--------------+-------------------+--------------+---------------+-----------------+\n",
      "|year|quarter|month|day_of_month|day_of_week|fl_date|unique_carrier|airline_id|carrier|tail_num|fl_num|crs_dep_time|dep_time|dep_delay|dep_delay_new|dep_del15|dep_delay_group|dep_time_blk|taxi_out|wheels_off|wheels_on|taxi_in|crs_arr_time|arr_time|arr_delay|arr_delay_new|arr_del15|arr_delay_group|arr_time_blk|cancelled|cancellation_code|diverted|crs_elapsed_time|actual_elapsed_time|air_time|flights|distance|distance_group|mon|carrier_delay|weather_delay|nas_delay|security_delay|late_aircraft_delay|first_dep_time|total_add_gtime|longest_add_gtime|\n",
      "+----+-------+-----+------------+-----------+-------+--------------+----------+-------+--------+------+------------+--------+---------+-------------+---------+---------------+------------+--------+----------+---------+-------+------------+--------+---------+-------------+---------+---------------+------------+---------+-----------------+--------+----------------+-------------------+--------+-------+--------+--------------+---+-------------+-------------+---------+--------------+-------------------+--------------+---------------+-----------------+\n",
      "|2016|      1|    3|           1|          2| 3/1/16|            DL|     19790|     DL|  N990AT|  2280|         839|     835|       -4|            0|        0|             -1|   0800-0859|      17|       852|     1111|      4|        1210|    1115|      -55|            0|        0|             -2|   1200-1259|        0|                 |       0|             211|                160|     139|      1|    1010|             5|  3|         null|         null|     null|          null|               null|          null|           null|             null|\n",
      "|2016|      1|    3|           1|          2| 3/1/16|            DL|     19790|     DL|  N816DN|  2281|        1610|    1609|       -1|            0|        0|             -1|   1600-1659|      11|      1620|     1722|      5|        1746|    1727|      -19|            0|        0|             -2|   1700-1759|        0|                 |       0|              96|                 78|      62|      1|     432|             2|  3|         null|         null|     null|          null|               null|          null|           null|             null|\n",
      "|2016|      1|    3|           1|          2| 3/1/16|            DL|     19790|     DL|  N816DN|  2281|        1841|    1835|       -6|            0|        0|             -1|   1800-1859|      22|      1857|     2020|      6|        2030|    2026|       -4|            0|        0|             -1|   2000-2059|        0|                 |       0|             109|                111|      83|      1|     432|             2|  3|         null|         null|     null|          null|               null|          null|           null|             null|\n",
      "|2016|      1|    3|           1|          2| 3/1/16|            DL|     19790|     DL|  N694DL|  2283|         600|     557|       -3|            0|        0|             -1|   0600-0659|      27|       624|      753|     10|         824|     803|      -21|            0|        0|             -2|   0800-0859|        0|                 |       0|             144|                126|      89|      1|     594|             3|  3|         null|         null|     null|          null|               null|          null|           null|             null|\n",
      "|2016|      1|    3|           1|          2| 3/1/16|            DL|     19790|     DL|  N326NB|  2284|        1120|    1120|        0|            0|        0|              0|   1100-1159|      20|      1140|     1204|      4|        1206|    1208|        2|            2|        0|              0|   1200-1259|        0|                 |       0|             106|                108|      84|      1|     532|             3|  3|         null|         null|     null|          null|               null|          null|           null|             null|\n",
      "|2016|      1|    3|           1|          2| 3/1/16|            DL|     19790|     DL|  N326NB|  2284|        1315|    1308|       -7|            0|        0|             -1|   1300-1359|      12|      1320|     1526|      4|        1548|    1530|      -18|            0|        0|             -2|   1500-1559|        0|                 |       0|              93|                 82|      66|      1|     532|             3|  3|         null|         null|     null|          null|               null|          null|           null|             null|\n",
      "|2016|      1|    3|           1|          2| 3/1/16|            DL|     19790|     DL|  N819DN|  2285|         700|     655|       -5|            0|        0|             -1|   0700-0759|      20|       715|      935|      5|        1007|     940|      -27|            0|        0|             -2|   1000-1059|        0|                 |       0|             187|                165|     140|      1|     950|             4|  3|         null|         null|     null|          null|               null|          null|           null|             null|\n",
      "|2016|      1|    3|           1|          2| 3/1/16|            DL|     19790|     DL|  N971AT|  2286|         800|     758|       -2|            0|        0|             -1|   0800-0859|      12|       810|      951|      6|        1012|     957|      -15|            0|        0|             -1|   1000-1059|        0|                 |       0|              72|                 59|      41|      1|     240|             1|  3|         null|         null|     null|          null|               null|          null|           null|             null|\n",
      "|2016|      1|    3|           1|          2| 3/1/16|            DL|     19790|     DL|  N3731T|  2287|        1715|    1711|       -4|            0|        0|             -1|   1700-1759|      12|      1723|     2019|      9|        2057|    2028|      -29|            0|        0|             -2|   2000-2059|        0|                 |       0|             342|                317|     296|      1|    2105|             9|  3|         null|         null|     null|          null|               null|          null|           null|             null|\n",
      "|2016|      1|    3|           1|          2| 3/1/16|            DL|     19790|     DL|  N992DL|  2288|        1409|    1449|       40|           40|        1|              2|   1400-1459|      11|      1500|     1427|      5|        1405|    1432|       27|           27|        1|              1|   1400-1459|        0|                 |       0|              56|                 43|      27|      1|     134|             1|  3|           27|            0|        0|             0|                  0|          null|           null|             null|\n",
      "|2016|      1|    3|           1|          2| 3/1/16|            DL|     19790|     DL|  N375NC|  2289|        2210|       9|      119|          119|        1|              7|   2200-2259|      32|        41|      108|      6|        2321|     114|      113|          113|        1|              7|   2300-2359|        0|                 |       0|              71|                 65|      27|      1|     120|             1|  3|           30|            0|        0|             0|                 83|          null|           null|             null|\n",
      "|2016|      1|    3|           1|          2| 3/1/16|            DL|     19790|     DL|  N324US|  2290|         625|     622|       -3|            0|        0|             -1|   0600-0659|      19|       641|      758|      4|         830|     802|      -28|            0|        0|             -2|   0800-0859|        0|                 |       0|             125|                100|      77|      1|     526|             3|  3|         null|         null|     null|          null|               null|          null|           null|             null|\n",
      "|2016|      1|    3|           1|          2| 3/1/16|            DL|     19790|     DL|  N987DL|  2291|        1924|    1926|        2|            2|        0|              0|   1900-1959|      22|      1948|     2104|     24|        2120|    2128|        8|            8|        0|              0|   2100-2159|        0|                 |       0|             116|                122|      76|      1|     554|             3|  3|         null|         null|     null|          null|               null|          null|           null|             null|\n",
      "|2016|      1|    3|           1|          2| 3/1/16|            DL|     19790|     DL|  N935DN|  2292|         655|     653|       -2|            0|        0|             -1|   0600-0659|      11|       704|      849|      7|         928|     856|      -32|            0|        0|             -2|   0900-0959|        0|                 |       0|             213|                183|     165|      1|    1276|             6|  3|         null|         null|     null|          null|               null|          null|           null|             null|\n",
      "|2016|      1|    3|           1|          2| 3/1/16|            DL|     19790|     DL|  N935DN|  2292|        1010|    1004|       -6|            0|        0|             -1|   1000-1059|      27|      1031|     1417|      4|        1429|    1421|       -8|            0|        0|             -1|   1400-1459|        0|                 |       0|             199|                197|     166|      1|    1276|             6|  3|         null|         null|     null|          null|               null|          null|           null|             null|\n",
      "|2016|      1|    3|           1|          2| 3/1/16|            DL|     19790|     DL|  N357NB|  2293|        1926|    1926|        0|            0|        0|              0|   1900-1959|      29|      1955|     2104|      4|        2108|    2108|        0|            0|        0|              0|   2100-2159|        0|                 |       0|             222|                222|     189|      1|    1282|             6|  3|         null|         null|     null|          null|               null|          null|           null|             null|\n",
      "|2016|      1|    3|           1|          2| 3/1/16|            DL|     19790|     DL|  N911DE|  2294|         525|     516|       -9|            0|        0|             -1|   0001-0559|      17|       533|      625|      5|         647|     630|      -17|            0|        0|             -2|   0600-0659|        0|                 |       0|              82|                 74|      52|      1|     306|             2|  3|         null|         null|     null|          null|               null|          null|           null|             null|\n",
      "|2016|      1|    3|           1|          2| 3/1/16|            DL|     19790|     DL|  N343NW|  2295|        1007|    1007|        0|            0|        0|              0|   1000-1059|      20|      1027|     1257|      4|        1300|    1301|        1|            1|        0|              0|   1300-1359|        0|                 |       0|             113|                114|      90|      1|     626|             3|  3|         null|         null|     null|          null|               null|          null|           null|             null|\n",
      "|2016|      1|    3|           1|          2| 3/1/16|            DL|     19790|     DL|  N343NW|  2295|         830|     827|       -3|            0|        0|             -1|   0800-0859|      16|       843|      930|      6|         927|     936|        9|            9|        0|              0|   0900-0959|        0|                 |       0|             117|                129|     107|      1|     626|             3|  3|         null|         null|     null|          null|               null|          null|           null|             null|\n",
      "|2016|      1|    3|           1|          2| 3/1/16|            DL|     19790|     DL|  N372NW|  2296|        1736|    1734|       -2|            0|        0|             -1|   1700-1759|      10|      1744|     2057|      8|        2125|    2105|      -20|            0|        0|             -2|   2100-2159|        0|                 |       0|             169|                151|     133|      1|    1020|             5|  3|         null|         null|     null|          null|               null|          null|           null|             null|\n",
      "+----+-------+-----+------------+-----------+-------+--------------+----------+-------+--------+------+------------+--------+---------+-------------+---------+---------------+------------+--------+----------+---------+-------+------------+--------+---------+-------------+---------+---------------+------------+---------+-----------------+--------+----------------+-------------------+--------+-------+--------+--------------+---+-------------+-------------+---------+--------------+-------------------+--------------+---------------+-----------------+\n",
      "only showing top 20 rows\n"
     ]
    }
   ],
   "source": [
    "flightDyf = flightDyf.drop_fields(\n",
    "    paths=[\n",
    "        \"origin_airport_id\", \n",
    "        \"origin_airport_seq_id\", \n",
    "        \"origin_city_market_id\",\n",
    "        \"origin\",\n",
    "        \"origin_city_name\",\n",
    "        \"origin_state_abr\",\n",
    "        \"origin_state_fips\",\n",
    "        \"origin_state_nm\",\n",
    "        \"origin_wac\",\n",
    "        \"dest_airport_id\",\n",
    "        \"dest_airport_seq_id\",\n",
    "        \"dest_city_market_id\",\n",
    "        \"dest\",\n",
    "        \"dest_city_name\",\n",
    "        \"dest_state_abr\",\n",
    "        \"dest_state_fips\",\n",
    "        \"dest_state_nm\",\n",
    "        \"dest_wac\"\n",
    "    ]\n",
    ")\n",
    "\n",
    "flightDyf.printSchema()\n",
    "flightDyf.toDF().show()"
   ]
  },
  {
   "cell_type": "code",
   "execution_count": 7,
   "id": "a8716db8",
   "metadata": {},
   "outputs": [
    {
     "name": "stdout",
     "output_type": "stream",
     "text": [
      "+----+-----+\n",
      "|year|month|\n",
      "+----+-----+\n",
      "|null| null|\n",
      "|2016|    6|\n",
      "|2016|    6|\n",
      "|2016|    6|\n",
      "|2016|    6|\n",
      "|2016|    6|\n",
      "|2016|    6|\n",
      "|2016|    6|\n",
      "|2016|    6|\n",
      "|2016|    6|\n",
      "|2016|    6|\n",
      "|2016|    6|\n",
      "|2016|    6|\n",
      "|2016|    6|\n",
      "|2016|    6|\n",
      "|2016|    6|\n",
      "|2016|    6|\n",
      "|2016|    6|\n",
      "|2016|    6|\n",
      "|2016|    6|\n",
      "+----+-----+\n",
      "only showing top 20 rows\n"
     ]
    }
   ],
   "source": [
    "%%sql\n",
    "select year, month from sample.`tbl-csv`"
   ]
  },
  {
   "cell_type": "code",
   "execution_count": 12,
   "id": "b8e82ba9",
   "metadata": {},
   "outputs": [
    {
     "name": "stdout",
     "output_type": "stream",
     "text": [
      "<awsglue.dynamicframe.DynamicFrame object at 0x7fed0b6fcb50>\n"
     ]
    }
   ],
   "source": [
    "s3_bucket = \"glue-sink-20230404\"\n",
    "sink = glueContext.getSink(\n",
    "    path = f\"s3://{s3_bucket}/flight/raw-part4/\",\n",
    "    connection_type = \"s3\",\n",
    "    updateBehavior = \"UPDATE_IN_DATABASE\",\n",
    "    paritionKyes = [\"year\", \"month\"],\n",
    " #   compress = \"snappy\",\n",
    "    enableUpdateCatalog = True,\n",
    " #   transformation_ctx = \"s3output\"\n",
    ")\n",
    "\n",
    "sink.setCatalogInfo(catalogDatabase=\"sample\", catalogTableName=\"tbl-flight4\")\n",
    "sink.setFormat(\"glueparquet\")\n",
    "sink.writeFrame(flightDyf)\n"
   ]
  },
  {
   "cell_type": "code",
   "execution_count": 13,
   "id": "3cf43e9b",
   "metadata": {},
   "outputs": [
    {
     "name": "stdout",
     "output_type": "stream",
     "text": [
      "+--------+---------------+-----------+\n",
      "|database|      tableName|isTemporary|\n",
      "+--------+---------------+-----------+\n",
      "|  sample|        tbl-csv|      false|\n",
      "|  sample|tbl-flight-part|      false|\n",
      "|  sample|    tbl-flight4|      false|\n",
      "+--------+---------------+-----------+\n"
     ]
    }
   ],
   "source": [
    "%%sql\n",
    "show tables in `sample`"
   ]
  },
  {
   "cell_type": "markdown",
   "id": "55f23e95",
   "metadata": {},
   "source": [
    "https://docs.aws.amazon.com/glue/latest/dg/aws-glue-programming-etl-partitions.html <BR>\n",
    "getSink 를 이용하여 S3에 데이터를 저장하는 경우 paritionKeys 를 설정하더라도 파티셔닝이 되지 않는다.\n",
    "아래의 코드를 사용해야 파티션키에 대한 파티셔닝 처리가 된다. (하지만 카탈로그는 수동으로 업데이트 해야 하는가?)"
   ]
  },
  {
   "cell_type": "code",
   "execution_count": 11,
   "id": "70cec8ed",
   "metadata": {},
   "outputs": [
    {
     "name": "stdout",
     "output_type": "stream",
     "text": [
      "<awsglue.dynamicframe.DynamicFrame object at 0x7fed0cac9ed0>\n"
     ]
    }
   ],
   "source": [
    "glueContext.write_dynamic_frame.from_options(\n",
    "    frame = flightDyf,\n",
    "    connection_type = \"s3\",\n",
    "    connection_options = { \n",
    "        \"path\": f\"s3://{s3_bucket}/flight/raw-part3/\",\n",
    "        \"partitionKeys\": [\"year\", \"month\"]\n",
    "    },\n",
    "    format = \"parquet\"\n",
    ")"
   ]
  },
  {
   "cell_type": "code",
   "execution_count": 15,
   "id": "1f712d73",
   "metadata": {},
   "outputs": [
    {
     "name": "stdout",
     "output_type": "stream",
     "text": [
      "23\n"
     ]
    }
   ],
   "source": [
    "# execute glue crawler\n",
    "\n",
    "flightDyf.getNumPartitions()"
   ]
  },
  {
   "cell_type": "markdown",
   "id": "f1231d41",
   "metadata": {},
   "source": [
    "https://repost.aws/knowledge-center/glue-job-output-large-files \n",
    "스파크가 출력하는 파티션의 갯수를 23에서 5개로 변경한다. 워커노드 대비 파티션 갯수를 비례적으로 설정해야 한다.\n",
    "파티션의 갯수와 크기는 성능에 영향을 끼친다."
   ]
  },
  {
   "cell_type": "code",
   "execution_count": 18,
   "id": "48412dbc",
   "metadata": {},
   "outputs": [
    {
     "name": "stdout",
     "output_type": "stream",
     "text": [
      "<awsglue.dynamicframe.DynamicFrame object at 0x7fed0b6e9290>\n"
     ]
    }
   ],
   "source": [
    "flgithDyf_p5 = flightDyf.coalesce(5)\n",
    "flgithDyf_p5.getNumPartitions()\n",
    "\n",
    "s3_bucket = \"glue-sink-20230404\"\n",
    "sink = glueContext.getSink(\n",
    "    path = f\"s3://{s3_bucket}/flight/raw-p5/\",\n",
    "    connection_type = \"s3\",\n",
    "    updateBehavior = \"UPDATE_IN_DATABASE\",\n",
    " #   paritionKyes = [\"year\", \"month\"],\n",
    " #   compress = \"snappy\",\n",
    "    enableUpdateCatalog = True,\n",
    " #   transformation_ctx = \"s3output\"\n",
    ")\n",
    "\n",
    "sink.setCatalogInfo(catalogDatabase=\"sample\", catalogTableName=\"tbl-flight-p5\")\n",
    "sink.setFormat(\"glueparquet\")\n",
    "sink.writeFrame(flgithDyf_p5)"
   ]
  }
 ],
 "metadata": {
  "kernelspec": {
   "display_name": "Glue PySpark",
   "language": "python",
   "name": "glue_pyspark"
  },
  "language_info": {
   "codemirror_mode": {
    "name": "python",
    "version": 3
   },
   "file_extension": ".py",
   "mimetype": "text/x-python",
   "name": "Python_Glue_Session",
   "pygments_lexer": "python3"
  }
 },
 "nbformat": 4,
 "nbformat_minor": 5
}
