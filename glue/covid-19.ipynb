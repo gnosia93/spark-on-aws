{
 "cells": [
  {
   "cell_type": "code",
   "execution_count": 7,
   "id": "0dd16c85",
   "metadata": {},
   "outputs": [
    {
     "name": "stdout",
     "output_type": "stream",
     "text": [
      "Welcome to the Glue Interactive Sessions Kernel\n",
      "For more information on available magic commands, please type %help in any new cell.\n",
      "\n",
      "Please view our Getting Started page to access the most up-to-date information on the Interactive Sessions kernel: https://docs.aws.amazon.com/glue/latest/dg/interactive-sessions.html\n",
      "Setting Glue version to: 2.0\n",
      "Previous number of workers: 5\n",
      "Setting new number of workers to: 2\n",
      "Previous worker type: G.1X\n",
      "Setting new worker type to: G.2X\n",
      "Current idle_timeout is 2880 minutes.\n",
      "idle_timeout has been set to 60 minutes.\n",
      "Previous region: None\n",
      "Setting new region to: us-east-2\n",
      "Region is set to: us-east-2\n",
      "Current iam_role is None\n",
      "iam_role has been set to arn:aws:iam::0000000000:role/AWSGlueServiceRoleJupyter.\n"
     ]
    }
   ],
   "source": [
    "%glue_version 2.0\n",
    "%number_of_workers 2\n",
    "%worker_type G.2X\n",
    "%idle_timeout 60\n",
    "%region us-east-2\n",
    "%iam_role arn:aws:iam::0000000000:role/AWSGlueServiceRoleJupyter"
   ]
  },
  {
   "cell_type": "code",
   "execution_count": 1,
   "id": "f4919e05",
   "metadata": {},
   "outputs": [
    {
     "name": "stdout",
     "output_type": "stream",
     "text": [
      "Authenticating with profile=default\n",
      "glue_role_arn defined by user: arn:aws:iam::0000000000:role/AWSGlueServiceRoleJupyter\n",
      "Trying to create a Glue session for the kernel.\n",
      "Worker Type: G.2X\n",
      "Number of Workers: 2\n",
      "Session ID: a292dec3-82a6-4f45-b150-c19ef5aeaa23\n",
      "Job Type: glueetl\n",
      "Applying the following default arguments:\n",
      "--glue_kernel_version 0.37.2\n",
      "--enable-glue-datacatalog true\n",
      "Waiting for session a292dec3-82a6-4f45-b150-c19ef5aeaa23 to get into ready status...\n",
      "Session a292dec3-82a6-4f45-b150-c19ef5aeaa23 has been created.\n",
      "\n"
     ]
    }
   ],
   "source": [
    "from awsglue.context import GlueContext\n",
    "from awsglue.job import Job\n",
    "from awsglue.transforms import *\n",
    "from awsglue.utils import getResolvedOptions\n",
    "from pyspark.context import SparkContext\n",
    "\n",
    "sc = SparkContext.getOrCreate()\n",
    "glueContext = GlueContext(sc)\n",
    "spark = glueContext.spark_session\n",
    "job = Job(glueContext)"
   ]
  },
  {
   "cell_type": "code",
   "execution_count": 2,
   "id": "45bfcea1",
   "metadata": {},
   "outputs": [
    {
     "name": "stdout",
     "output_type": "stream",
     "text": [
      "+--------+--------------------+-----------+\n",
      "|database|           tableName|isTemporary|\n",
      "+--------+--------------------+-----------+\n",
      "|covid-19|alleninstitute_co...|      false|\n",
      "|covid-19|alleninstitute_me...|      false|\n",
      "|covid-19|aspirevc_crowd_tr...|      false|\n",
      "|covid-19|aspirevc_crowd_tr...|      false|\n",
      "|covid-19|cdc_moderna_vacci...|      false|\n",
      "|covid-19|cdc_pfizer_vaccin...|      false|\n",
      "|covid-19|       country_codes|      false|\n",
      "|covid-19|  county_populations|      false|\n",
      "|covid-19|covid_knowledge_g...|      false|\n",
      "|covid-19|covid_knowledge_g...|      false|\n",
      "|covid-19|covid_knowledge_g...|      false|\n",
      "|covid-19|covid_knowledge_g...|      false|\n",
      "|covid-19|covid_knowledge_g...|      false|\n",
      "|covid-19|covid_knowledge_g...|      false|\n",
      "|covid-19|covid_testing_sta...|      false|\n",
      "|covid-19|covid_testing_us_...|      false|\n",
      "|covid-19|covid_testing_us_...|      false|\n",
      "|covid-19|      covidcast_data|      false|\n",
      "|covid-19|  covidcast_metadata|      false|\n",
      "|covid-19|enigma_aggregatio...|      false|\n",
      "+--------+--------------------+-----------+\n",
      "only showing top 20 rows\n"
     ]
    }
   ],
   "source": [
    "%%sql \n",
    "show tables in `covid-19`"
   ]
  },
  {
   "cell_type": "code",
   "execution_count": 3,
   "id": "6242c84d",
   "metadata": {},
   "outputs": [
    {
     "name": "stdout",
     "output_type": "stream",
     "text": [
      "+--------------+-----+---------------+-----------+------------------------+\n",
      "|            id|  id2|         county|      state|population estimate 2018|\n",
      "+--------------+-----+---------------+-----------+------------------------+\n",
      "|            Id|  Id2|         County|      State|    Population Estima...|\n",
      "|0500000US01085| 1085|        Lowndes|    Alabama|                    9974|\n",
      "|0500000US06057| 6057|         Nevada| California|                   99696|\n",
      "|0500000US29189|29189|      St. Louis|   Missouri|                  996945|\n",
      "|0500000US22021|22021|Caldwell Parish|  Louisiana|                    9960|\n",
      "|0500000US06019| 6019|         Fresno| California|                  994400|\n",
      "|0500000US28143|28143|         Tunica|Mississippi|                    9944|\n",
      "|0500000US05051| 5051|        Garland|   Arkansas|                   99154|\n",
      "|0500000US29079|29079|         Grundy|   Missouri|                    9914|\n",
      "|0500000US27063|27063|        Jackson|  Minnesota|                    9911|\n",
      "+--------------+-----+---------------+-----------+------------------------+\n"
     ]
    }
   ],
   "source": [
    "%%sql \n",
    "select * from `covid-19`.county_populations sort by `population estimate 2018` desc limit 10"
   ]
  },
  {
   "cell_type": "code",
   "execution_count": 4,
   "id": "bb41c22c",
   "metadata": {},
   "outputs": [
    {
     "name": "stdout",
     "output_type": "stream",
     "text": [
      "root\n",
      "|-- id: string\n",
      "|-- id2: string\n",
      "|-- county: string\n",
      "|-- state: string\n",
      "|-- population estimate 2018: string\n"
     ]
    }
   ],
   "source": [
    "dyf = glueContext.create_dynamic_frame.from_catalog(\n",
    "    database = \"covid-19\", table_name = \"county_populations\")\n",
    "dyf.printSchema()"
   ]
  },
  {
   "cell_type": "code",
   "execution_count": 5,
   "id": "df785cc7",
   "metadata": {},
   "outputs": [
    {
     "name": "stdout",
     "output_type": "stream",
     "text": [
      "root\n",
      "|-- id: string\n",
      "|-- simple_id: int\n",
      "|-- county: string\n",
      "|-- state: string\n",
      "|-- pop_est_2018: long\n",
      "\n",
      "+--------------+---------+---------+-------+------------+\n",
      "|            id|simple_id|   county|  state|pop_est_2018|\n",
      "+--------------+---------+---------+-------+------------+\n",
      "|0500000US01001|     1001|  Autauga|Alabama|       55601|\n",
      "|0500000US01003|     1003|  Baldwin|Alabama|      218022|\n",
      "|0500000US01005|     1005|  Barbour|Alabama|       24881|\n",
      "|0500000US01007|     1007|     Bibb|Alabama|       22400|\n",
      "|0500000US01009|     1009|   Blount|Alabama|       57840|\n",
      "|0500000US01011|     1011|  Bullock|Alabama|       10138|\n",
      "|0500000US01013|     1013|   Butler|Alabama|       19680|\n",
      "|0500000US01015|     1015|  Calhoun|Alabama|      114277|\n",
      "|0500000US01017|     1017| Chambers|Alabama|       33615|\n",
      "|0500000US01019|     1019| Cherokee|Alabama|       26032|\n",
      "|0500000US01021|     1021|  Chilton|Alabama|       44153|\n",
      "|0500000US01023|     1023|  Choctaw|Alabama|       12841|\n",
      "|0500000US01025|     1025|   Clarke|Alabama|       23920|\n",
      "|0500000US01027|     1027|     Clay|Alabama|       13275|\n",
      "|0500000US01029|     1029| Cleburne|Alabama|       14987|\n",
      "|0500000US01031|     1031|   Coffee|Alabama|       51909|\n",
      "|0500000US01033|     1033|  Colbert|Alabama|       54762|\n",
      "|0500000US01035|     1035|  Conecuh|Alabama|       12277|\n",
      "|0500000US01037|     1037|    Coosa|Alabama|       10715|\n",
      "|0500000US01039|     1039|Covington|Alabama|       36986|\n",
      "+--------------+---------+---------+-------+------------+\n",
      "only showing top 20 rows\n"
     ]
    }
   ],
   "source": [
    "mapped = dyf.apply_mapping(\n",
    "    mappings = [\n",
    "        (\"id\", \"string\", \"id\", \"string\"),\n",
    "        (\"id2\", \"string\", \"simple_id\", \"int\"),\n",
    "        (\"county\", \"string\", \"county\", \"string\"),\n",
    "        (\"state\", \"string\", \"state\", \"string\"),\n",
    "        (\"population estimate 2018\", \"string\", \"pop_est_2018\", \"long\")\n",
    "    ]\n",
    ")\n",
    "\n",
    "mapped.printSchema()\n",
    "mapped_df = mapped.toDF()\n",
    "mapped_df.show()"
   ]
  },
  {
   "cell_type": "code",
   "execution_count": 6,
   "id": "3f31d518",
   "metadata": {},
   "outputs": [
    {
     "name": "stdout",
     "output_type": "stream",
     "text": [
      "DataFrame[]\n"
     ]
    }
   ],
   "source": [
    "spark.sql(\"create database if not exists demo\")"
   ]
  },
  {
   "cell_type": "code",
   "execution_count": 7,
   "id": "34027728",
   "metadata": {},
   "outputs": [
    {
     "name": "stdout",
     "output_type": "stream",
     "text": [
      "+------------+\n",
      "|databaseName|\n",
      "+------------+\n",
      "|    covid-19|\n",
      "|     default|\n",
      "|        demo|\n",
      "|     test-db|\n",
      "+------------+\n"
     ]
    }
   ],
   "source": [
    "%%sql\n",
    "show databases"
   ]
  },
  {
   "cell_type": "code",
   "execution_count": 8,
   "id": "7916dbbd",
   "metadata": {},
   "outputs": [
    {
     "name": "stdout",
     "output_type": "stream",
     "text": [
      "<awsglue.dynamicframe.DynamicFrame object at 0x7f4fc11d9a50>\n"
     ]
    }
   ],
   "source": [
    "s3_bucket = \"glue-sink-20230404\"\n",
    "sink = glueContext.getSink(\n",
    "    path = f\"s3://{s3_bucket}/interactive-session/pops/\",\n",
    "    connection_type = \"s3\",\n",
    "    updateBehavior = \"UPDATE_IN_DATABASE\",\n",
    "    paritionKyes = [],\n",
    "    compress = \"snappy\",\n",
    "    enableUpdateCatalog = True,\n",
    "    transformation_ctx = \"s3output\"\n",
    ")\n",
    "\n",
    "sink.setCatalogInfo(catalogDatabase=\"demo\", catalogTableName=\"pops\")\n",
    "sink.setFormat(\"glueparquet\")\n",
    "sink.writeFrame(mapped)"
   ]
  },
  {
   "cell_type": "code",
   "execution_count": 9,
   "id": "b18f447a",
   "metadata": {},
   "outputs": [
    {
     "name": "stdout",
     "output_type": "stream",
     "text": [
      "+--------------+---------+---------+-------+------------+\n",
      "|            id|simple_id|   county|  state|pop_est_2018|\n",
      "+--------------+---------+---------+-------+------------+\n",
      "|0500000US01001|     1001|  Autauga|Alabama|       55601|\n",
      "|0500000US01003|     1003|  Baldwin|Alabama|      218022|\n",
      "|0500000US01005|     1005|  Barbour|Alabama|       24881|\n",
      "|0500000US01007|     1007|     Bibb|Alabama|       22400|\n",
      "|0500000US01009|     1009|   Blount|Alabama|       57840|\n",
      "|0500000US01011|     1011|  Bullock|Alabama|       10138|\n",
      "|0500000US01013|     1013|   Butler|Alabama|       19680|\n",
      "|0500000US01015|     1015|  Calhoun|Alabama|      114277|\n",
      "|0500000US01017|     1017| Chambers|Alabama|       33615|\n",
      "|0500000US01019|     1019| Cherokee|Alabama|       26032|\n",
      "|0500000US01021|     1021|  Chilton|Alabama|       44153|\n",
      "|0500000US01023|     1023|  Choctaw|Alabama|       12841|\n",
      "|0500000US01025|     1025|   Clarke|Alabama|       23920|\n",
      "|0500000US01027|     1027|     Clay|Alabama|       13275|\n",
      "|0500000US01029|     1029| Cleburne|Alabama|       14987|\n",
      "|0500000US01031|     1031|   Coffee|Alabama|       51909|\n",
      "|0500000US01033|     1033|  Colbert|Alabama|       54762|\n",
      "|0500000US01035|     1035|  Conecuh|Alabama|       12277|\n",
      "|0500000US01037|     1037|    Coosa|Alabama|       10715|\n",
      "|0500000US01039|     1039|Covington|Alabama|       36986|\n",
      "+--------------+---------+---------+-------+------------+\n",
      "only showing top 20 rows\n"
     ]
    }
   ],
   "source": [
    "%%sql\n",
    "select * from demo.pops\n"
   ]
  },
  {
   "cell_type": "code",
   "execution_count": 10,
   "id": "e31b408f",
   "metadata": {},
   "outputs": [
    {
     "name": "stdout",
     "output_type": "stream",
     "text": [
      "+--------+\n",
      "|count(1)|\n",
      "+--------+\n",
      "|   12880|\n",
      "+--------+\n"
     ]
    }
   ],
   "source": [
    "%%sql\n",
    "select count(1) from demo.pops"
   ]
  },
  {
   "cell_type": "code",
   "execution_count": 9,
   "id": "0e796560",
   "metadata": {},
   "outputs": [
    {
     "data": {
      "text/plain": [
       "'/Users/soonbeom/glue'"
      ]
     },
     "execution_count": 8,
     "metadata": {},
     "output_type": "execute_result"
    }
   ],
   "source": [
    "%pwd"
   ]
  }
 ],
 "metadata": {
  "kernelspec": {
   "display_name": "Glue PySpark",
   "language": "python",
   "name": "glue_pyspark"
  },
  "language_info": {
   "codemirror_mode": {
    "name": "python",
    "version": 3
   },
   "file_extension": ".py",
   "mimetype": "text/x-python",
   "name": "Python_Glue_Session",
   "pygments_lexer": "python3"
  }
 },
 "nbformat": 4,
 "nbformat_minor": 5
}
